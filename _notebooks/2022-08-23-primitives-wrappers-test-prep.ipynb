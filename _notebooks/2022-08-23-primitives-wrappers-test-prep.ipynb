{
 "cells": [
  {
   "cell_type": "markdown",
   "metadata": {},
   "source": [
    "# \"Primitives and Wrappers Notes\"\n",
    "> \"Please work!!!\"\n",
    "\n",
    "- toc: true\n",
    "- branch: master\n",
    "- badges: true\n",
    "- comments: true\n",
    "- author: Bria Gilliam\n",
    "- categories: [fastpages, jupyter, java]"
   ]
  },
  {
   "cell_type": "markdown",
   "metadata": {},
   "source": [
    "Python\n",
    "- weakly type language\n",
    "- don't have to specifiy type of data, ie double quote for string\n",
    "\n",
    "Java\n",
    "- strongy type language\n",
    "- requires you to think about it more and which type of data it is\n",
    "\n",
    "Java C and Java\n",
    "- Java C executes then Java executes then the program runs\n",
    "\n",
    "Data Tyes\n",
    "- Data types with a captial letter are primitives are lowercase\n",
    "- Data types with a lowercase letter are wrappers\n",
    "\n",
    "Primitives are just the numbers assigned to memory\n",
    "- primitives are built in\n",
    "\n",
    "Wrappers are classes and have methods, getters, and setters\n",
    "- has built in code with it that can do more stuff\n",
    "- to compare two strings you can use \".equals\"\n",
    "- methods are code associated with the type\n",
    "- string is basically an object\n",
    "- not built in has to be declared"
   ]
  },
  {
   "cell_type": "code",
   "execution_count": null,
   "metadata": {
    "vscode": {
     "languageId": "markdown"
    }
   },
   "outputs": [],
   "source": [
    "public class Class {\n",
    "  int x = 5;\n",
    "}"
   ]
  }
 ],
 "metadata": {
  "language_info": {
   "name": "python"
  },
  "orig_nbformat": 4
 },
 "nbformat": 4,
 "nbformat_minor": 2
}
